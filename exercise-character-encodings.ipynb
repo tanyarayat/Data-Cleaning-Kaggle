{
 "cells": [
  {
   "cell_type": "markdown",
   "id": "96db9dab",
   "metadata": {
    "papermill": {
     "duration": 0.014963,
     "end_time": "2021-07-18T18:52:27.907393",
     "exception": false,
     "start_time": "2021-07-18T18:52:27.892430",
     "status": "completed"
    },
    "tags": []
   },
   "source": [
    "**This notebook is an exercise in the [Data Cleaning](https://www.kaggle.com/learn/data-cleaning) course.  You can reference the tutorial at [this link](https://www.kaggle.com/alexisbcook/character-encodings).**\n",
    "\n",
    "---\n"
   ]
  },
  {
   "cell_type": "markdown",
   "id": "f2b854ef",
   "metadata": {
    "papermill": {
     "duration": 0.013334,
     "end_time": "2021-07-18T18:52:27.936414",
     "exception": false,
     "start_time": "2021-07-18T18:52:27.923080",
     "status": "completed"
    },
    "tags": []
   },
   "source": [
    "In this exercise, you'll apply what you learned in the **Character encodings** tutorial.\n",
    "\n",
    "# Setup\n",
    "\n",
    "The questions below will give you feedback on your work. Run the following cell to set up the feedback system."
   ]
  },
  {
   "cell_type": "code",
   "execution_count": 1,
   "id": "e89361cd",
   "metadata": {
    "execution": {
     "iopub.execute_input": "2021-07-18T18:52:27.975088Z",
     "iopub.status.busy": "2021-07-18T18:52:27.974434Z",
     "iopub.status.idle": "2021-07-18T18:52:28.152685Z",
     "shell.execute_reply": "2021-07-18T18:52:28.153204Z",
     "shell.execute_reply.started": "2021-07-14T13:48:33.32948Z"
    },
    "papermill": {
     "duration": 0.203553,
     "end_time": "2021-07-18T18:52:28.153516",
     "exception": false,
     "start_time": "2021-07-18T18:52:27.949963",
     "status": "completed"
    },
    "tags": []
   },
   "outputs": [
    {
     "name": "stdout",
     "output_type": "stream",
     "text": [
      "Setup Complete\n"
     ]
    }
   ],
   "source": [
    "from learntools.core import binder\n",
    "binder.bind(globals())\n",
    "from learntools.data_cleaning.ex4 import *\n",
    "print(\"Setup Complete\")"
   ]
  },
  {
   "cell_type": "markdown",
   "id": "382864e3",
   "metadata": {
    "papermill": {
     "duration": 0.013641,
     "end_time": "2021-07-18T18:52:28.181696",
     "exception": false,
     "start_time": "2021-07-18T18:52:28.168055",
     "status": "completed"
    },
    "tags": []
   },
   "source": [
    "# Get our environment set up\n",
    "\n",
    "The first thing we'll need to do is load in the libraries we'll be using."
   ]
  },
  {
   "cell_type": "code",
   "execution_count": 2,
   "id": "e8d6193f",
   "metadata": {
    "execution": {
     "iopub.execute_input": "2021-07-18T18:52:28.215062Z",
     "iopub.status.busy": "2021-07-18T18:52:28.214059Z",
     "iopub.status.idle": "2021-07-18T18:52:28.216914Z",
     "shell.execute_reply": "2021-07-18T18:52:28.216377Z",
     "shell.execute_reply.started": "2021-07-14T13:48:33.337659Z"
    },
    "papermill": {
     "duration": 0.021523,
     "end_time": "2021-07-18T18:52:28.217086",
     "exception": false,
     "start_time": "2021-07-18T18:52:28.195563",
     "status": "completed"
    },
    "tags": []
   },
   "outputs": [],
   "source": [
    "# modules we'll use\n",
    "import pandas as pd\n",
    "import numpy as np\n",
    "\n",
    "# helpful character encoding module\n",
    "import chardet\n",
    "\n",
    "# set seed for reproducibility\n",
    "np.random.seed(0)"
   ]
  },
  {
   "cell_type": "markdown",
   "id": "3159e6f1",
   "metadata": {
    "papermill": {
     "duration": 0.01376,
     "end_time": "2021-07-18T18:52:28.244959",
     "exception": false,
     "start_time": "2021-07-18T18:52:28.231199",
     "status": "completed"
    },
    "tags": []
   },
   "source": [
    "# 1) What are encodings?\n",
    "\n",
    "You're working with a dataset composed of bytes.  Run the code cell below to print a sample entry."
   ]
  },
  {
   "cell_type": "code",
   "execution_count": 3,
   "id": "942a0dbd",
   "metadata": {
    "execution": {
     "iopub.execute_input": "2021-07-18T18:52:28.278415Z",
     "iopub.status.busy": "2021-07-18T18:52:28.277668Z",
     "iopub.status.idle": "2021-07-18T18:52:28.282130Z",
     "shell.execute_reply": "2021-07-18T18:52:28.281280Z",
     "shell.execute_reply.started": "2021-07-14T13:48:33.352271Z"
    },
    "papermill": {
     "duration": 0.023414,
     "end_time": "2021-07-18T18:52:28.282311",
     "exception": false,
     "start_time": "2021-07-18T18:52:28.258897",
     "status": "completed"
    },
    "tags": []
   },
   "outputs": [
    {
     "name": "stdout",
     "output_type": "stream",
     "text": [
      "b'\\xa7A\\xa6n'\n",
      "data type: <class 'bytes'>\n"
     ]
    }
   ],
   "source": [
    "sample_entry = b'\\xa7A\\xa6n'\n",
    "print(sample_entry)\n",
    "print('data type:', type(sample_entry))"
   ]
  },
  {
   "cell_type": "markdown",
   "id": "6aadaab4",
   "metadata": {
    "papermill": {
     "duration": 0.014121,
     "end_time": "2021-07-18T18:52:28.311768",
     "exception": false,
     "start_time": "2021-07-18T18:52:28.297647",
     "status": "completed"
    },
    "tags": []
   },
   "source": [
    "You notice that it doesn't use the standard UTF-8 encoding. \n",
    "\n",
    "Use the next code cell to create a variable `new_entry` that changes the encoding from `\"big5-tw\"` to `\"utf-8\"`.  `new_entry` should have the bytes datatype."
   ]
  },
  {
   "cell_type": "code",
   "execution_count": 4,
   "id": "4425c161",
   "metadata": {
    "execution": {
     "iopub.execute_input": "2021-07-18T18:52:28.348802Z",
     "iopub.status.busy": "2021-07-18T18:52:28.348038Z",
     "iopub.status.idle": "2021-07-18T18:52:28.354878Z",
     "shell.execute_reply": "2021-07-18T18:52:28.355349Z",
     "shell.execute_reply.started": "2021-07-14T13:48:33.367493Z"
    },
    "papermill": {
     "duration": 0.029689,
     "end_time": "2021-07-18T18:52:28.355717",
     "exception": false,
     "start_time": "2021-07-18T18:52:28.326028",
     "status": "completed"
    },
    "tags": []
   },
   "outputs": [
    {
     "name": "stdout",
     "output_type": "stream",
     "text": [
      "b'\\xe4\\xbd\\xa0\\xe5\\xa5\\xbd'\n",
      "<class 'bytes'>\n"
     ]
    },
    {
     "data": {
      "application/javascript": [
       "parent.postMessage({\"jupyterEvent\": \"custom.exercise_interaction\", \"data\": {\"outcomeType\": 1, \"valueTowardsCompletion\": 0.3333333333333333, \"interactionType\": 1, \"questionType\": 1, \"questionId\": \"1_EncodingsIntro\", \"learnToolsVersion\": \"0.3.4\", \"failureMessage\": \"\", \"exceptionClass\": \"\", \"trace\": \"\"}}, \"*\")"
      ],
      "text/plain": [
       "<IPython.core.display.Javascript object>"
      ]
     },
     "metadata": {},
     "output_type": "display_data"
    },
    {
     "data": {
      "text/markdown": [
       "<span style=\"color:#33cc33\">Correct</span>"
      ],
      "text/plain": [
       "Correct"
      ]
     },
     "metadata": {},
     "output_type": "display_data"
    }
   ],
   "source": [
    "before = sample_entry.decode(\"big5-tw\")\n",
    "new_entry = before.encode()\n",
    "print(new_entry)\n",
    "print(type(new_entry))\n",
    "# Check your answer\n",
    "q1.check()"
   ]
  },
  {
   "cell_type": "code",
   "execution_count": 5,
   "id": "9ba95d75",
   "metadata": {
    "execution": {
     "iopub.execute_input": "2021-07-18T18:52:28.391139Z",
     "iopub.status.busy": "2021-07-18T18:52:28.390369Z",
     "iopub.status.idle": "2021-07-18T18:52:28.393592Z",
     "shell.execute_reply": "2021-07-18T18:52:28.393038Z",
     "shell.execute_reply.started": "2021-07-14T13:48:33.383888Z"
    },
    "papermill": {
     "duration": 0.022354,
     "end_time": "2021-07-18T18:52:28.393728",
     "exception": false,
     "start_time": "2021-07-18T18:52:28.371374",
     "status": "completed"
    },
    "tags": []
   },
   "outputs": [],
   "source": [
    "# Lines below will give you a hint or solution code\n",
    "#q1.hint()\n",
    "#q1.solution()"
   ]
  },
  {
   "cell_type": "markdown",
   "id": "866a25a6",
   "metadata": {
    "papermill": {
     "duration": 0.015389,
     "end_time": "2021-07-18T18:52:28.425413",
     "exception": false,
     "start_time": "2021-07-18T18:52:28.410024",
     "status": "completed"
    },
    "tags": []
   },
   "source": [
    "# 2) Reading in files with encoding problems\n",
    "\n",
    "Use the code cell below to read in this file at path `\"../input/fatal-police-shootings-in-the-us/PoliceKillingsUS.csv\"`.  \n",
    "\n",
    "Figure out what the correct encoding should be and read in the file to a DataFrame `police_killings`."
   ]
  },
  {
   "cell_type": "code",
   "execution_count": 6,
   "id": "5b750454",
   "metadata": {
    "execution": {
     "iopub.execute_input": "2021-07-18T18:52:28.461641Z",
     "iopub.status.busy": "2021-07-18T18:52:28.460998Z",
     "iopub.status.idle": "2021-07-18T18:52:28.487821Z",
     "shell.execute_reply": "2021-07-18T18:52:28.488302Z",
     "shell.execute_reply.started": "2021-07-14T13:48:33.395877Z"
    },
    "papermill": {
     "duration": 0.047631,
     "end_time": "2021-07-18T18:52:28.488500",
     "exception": false,
     "start_time": "2021-07-18T18:52:28.440869",
     "status": "completed"
    },
    "tags": []
   },
   "outputs": [
    {
     "name": "stdout",
     "output_type": "stream",
     "text": [
      "{'encoding': 'ascii', 'confidence': 1.0, 'language': ''}\n"
     ]
    },
    {
     "data": {
      "application/javascript": [
       "parent.postMessage({\"jupyterEvent\": \"custom.exercise_interaction\", \"data\": {\"outcomeType\": 1, \"valueTowardsCompletion\": 0.3333333333333333, \"interactionType\": 1, \"questionType\": 1, \"questionId\": \"2_ReadIn\", \"learnToolsVersion\": \"0.3.4\", \"failureMessage\": \"\", \"exceptionClass\": \"\", \"trace\": \"\"}}, \"*\")"
      ],
      "text/plain": [
       "<IPython.core.display.Javascript object>"
      ]
     },
     "metadata": {},
     "output_type": "display_data"
    },
    {
     "data": {
      "text/markdown": [
       "<span style=\"color:#33cc33\">Correct</span>"
      ],
      "text/plain": [
       "Correct"
      ]
     },
     "metadata": {},
     "output_type": "display_data"
    }
   ],
   "source": [
    "# TODO: Load in the DataFrame correctly.\n",
    "police_killings = pd.read_csv('../input/fatal-police-shootings-in-the-us/PoliceKillingsUS.csv')\n",
    "with open(\"../input/fatal-police-shootings-in-the-us/PoliceKillingsUS.csv\", 'rb') as rawdata:\n",
    "    result = chardet.detect(rawdata.read(10000))\n",
    "\n",
    "# check what the character encoding might be\n",
    "print(result)\n",
    "# Check your answer\n",
    "q2.check()"
   ]
  },
  {
   "cell_type": "markdown",
   "id": "3a10febe",
   "metadata": {
    "papermill": {
     "duration": 0.016545,
     "end_time": "2021-07-18T18:52:28.522736",
     "exception": false,
     "start_time": "2021-07-18T18:52:28.506191",
     "status": "completed"
    },
    "tags": []
   },
   "source": [
    "Feel free to use any additional code cells for supplemental work.  To get credit for finishing this question, you'll need to run `q2.check()` and get a result of **Correct**."
   ]
  },
  {
   "cell_type": "code",
   "execution_count": 7,
   "id": "17a8990c",
   "metadata": {
    "execution": {
     "iopub.execute_input": "2021-07-18T18:52:28.561078Z",
     "iopub.status.busy": "2021-07-18T18:52:28.560407Z",
     "iopub.status.idle": "2021-07-18T18:52:28.562896Z",
     "shell.execute_reply": "2021-07-18T18:52:28.562248Z",
     "shell.execute_reply.started": "2021-07-14T13:48:33.434039Z"
    },
    "papermill": {
     "duration": 0.023585,
     "end_time": "2021-07-18T18:52:28.563032",
     "exception": false,
     "start_time": "2021-07-18T18:52:28.539447",
     "status": "completed"
    },
    "tags": []
   },
   "outputs": [],
   "source": [
    "# (Optional) Use this code cell for any additional work."
   ]
  },
  {
   "cell_type": "code",
   "execution_count": 8,
   "id": "38ec74b6",
   "metadata": {
    "execution": {
     "iopub.execute_input": "2021-07-18T18:52:28.600287Z",
     "iopub.status.busy": "2021-07-18T18:52:28.599661Z",
     "iopub.status.idle": "2021-07-18T18:52:28.602747Z",
     "shell.execute_reply": "2021-07-18T18:52:28.603302Z",
     "shell.execute_reply.started": "2021-07-14T13:48:33.440414Z"
    },
    "papermill": {
     "duration": 0.023344,
     "end_time": "2021-07-18T18:52:28.603496",
     "exception": false,
     "start_time": "2021-07-18T18:52:28.580152",
     "status": "completed"
    },
    "tags": []
   },
   "outputs": [],
   "source": [
    "# Lines below will give you a hint or solution code\n",
    "#q2.hint()\n",
    "#q2.solution()"
   ]
  },
  {
   "cell_type": "markdown",
   "id": "51a8c62b",
   "metadata": {
    "papermill": {
     "duration": 0.016724,
     "end_time": "2021-07-18T18:52:28.637401",
     "exception": false,
     "start_time": "2021-07-18T18:52:28.620677",
     "status": "completed"
    },
    "tags": []
   },
   "source": [
    "# 3) Saving your files with UTF-8 encoding\n",
    "\n",
    "Save a version of the police killings dataset to CSV with UTF-8 encoding.  Your answer will be marked correct after saving this file.  \n",
    "\n",
    "Note: When using the `to_csv()` method, supply only the name of the file (e.g., `\"my_file.csv\"`).  This saves the file at the filepath `\"/kaggle/working/my_file.csv\"`."
   ]
  },
  {
   "cell_type": "code",
   "execution_count": 9,
   "id": "6836918d",
   "metadata": {
    "execution": {
     "iopub.execute_input": "2021-07-18T18:52:28.674434Z",
     "iopub.status.busy": "2021-07-18T18:52:28.673841Z",
     "iopub.status.idle": "2021-07-18T18:52:28.720053Z",
     "shell.execute_reply": "2021-07-18T18:52:28.720551Z",
     "shell.execute_reply.started": "2021-07-14T13:48:33.452843Z"
    },
    "papermill": {
     "duration": 0.066093,
     "end_time": "2021-07-18T18:52:28.720733",
     "exception": false,
     "start_time": "2021-07-18T18:52:28.654640",
     "status": "completed"
    },
    "tags": []
   },
   "outputs": [
    {
     "data": {
      "application/javascript": [
       "parent.postMessage({\"jupyterEvent\": \"custom.exercise_interaction\", \"data\": {\"outcomeType\": 1, \"valueTowardsCompletion\": 0.3333333333333333, \"interactionType\": 1, \"questionType\": 2, \"questionId\": \"3_SaveCSV\", \"learnToolsVersion\": \"0.3.4\", \"failureMessage\": \"\", \"exceptionClass\": \"\", \"trace\": \"\"}}, \"*\")"
      ],
      "text/plain": [
       "<IPython.core.display.Javascript object>"
      ]
     },
     "metadata": {},
     "output_type": "display_data"
    },
    {
     "data": {
      "text/markdown": [
       "<span style=\"color:#33cc33\">Correct</span>"
      ],
      "text/plain": [
       "Correct"
      ]
     },
     "metadata": {},
     "output_type": "display_data"
    }
   ],
   "source": [
    "# TODO: Save the police killings dataset to CSV\n",
    "police_killings.to_csv(\"my_file.csv\")\n",
    "\n",
    "# Check your answer\n",
    "q3.check()"
   ]
  },
  {
   "cell_type": "code",
   "execution_count": 10,
   "id": "cb351264",
   "metadata": {
    "execution": {
     "iopub.execute_input": "2021-07-18T18:52:28.761663Z",
     "iopub.status.busy": "2021-07-18T18:52:28.760792Z",
     "iopub.status.idle": "2021-07-18T18:52:28.764323Z",
     "shell.execute_reply": "2021-07-18T18:52:28.763746Z",
     "shell.execute_reply.started": "2021-07-14T13:48:33.504863Z"
    },
    "papermill": {
     "duration": 0.02556,
     "end_time": "2021-07-18T18:52:28.764476",
     "exception": false,
     "start_time": "2021-07-18T18:52:28.738916",
     "status": "completed"
    },
    "tags": []
   },
   "outputs": [],
   "source": [
    "# Lines below will give you a hint or solution code\n",
    "#q3.hint()\n",
    "#q3.solution()"
   ]
  },
  {
   "cell_type": "markdown",
   "id": "56461e48",
   "metadata": {
    "papermill": {
     "duration": 0.017448,
     "end_time": "2021-07-18T18:52:28.800100",
     "exception": false,
     "start_time": "2021-07-18T18:52:28.782652",
     "status": "completed"
    },
    "tags": []
   },
   "source": [
    "# (Optional) More practice\n",
    "\n",
    "Check out [this dataset of files in different character encodings](https://www.kaggle.com/rtatman/character-encoding-examples). Can you read in all the files with their original encodings and them save them out as UTF-8 files?\n",
    "\n",
    "If you have a file that's in UTF-8 but has just a couple of weird-looking characters in it, you can try out the [ftfy module](https://ftfy.readthedocs.io/en/latest/#) and see if it helps. \n",
    "\n",
    "# Keep going\n",
    "\n",
    "In the final lesson, learn how to [**clean up inconsistent text entries**](https://www.kaggle.com/alexisbcook/inconsistent-data-entry) in your dataset."
   ]
  },
  {
   "cell_type": "markdown",
   "id": "d55f9fac",
   "metadata": {
    "papermill": {
     "duration": 0.017639,
     "end_time": "2021-07-18T18:52:28.835795",
     "exception": false,
     "start_time": "2021-07-18T18:52:28.818156",
     "status": "completed"
    },
    "tags": []
   },
   "source": [
    "---\n",
    "\n",
    "\n",
    "\n",
    "\n",
    "*Have questions or comments? Visit the [Learn Discussion forum](https://www.kaggle.com/learn-forum/172650) to chat with other Learners.*"
   ]
  }
 ],
 "metadata": {
  "kernelspec": {
   "display_name": "Python 3",
   "language": "python",
   "name": "python3"
  },
  "language_info": {
   "codemirror_mode": {
    "name": "ipython",
    "version": 3
   },
   "file_extension": ".py",
   "mimetype": "text/x-python",
   "name": "python",
   "nbconvert_exporter": "python",
   "pygments_lexer": "ipython3",
   "version": "3.7.10"
  },
  "papermill": {
   "default_parameters": {},
   "duration": 10.873629,
   "end_time": "2021-07-18T18:52:30.084608",
   "environment_variables": {},
   "exception": null,
   "input_path": "__notebook__.ipynb",
   "output_path": "__notebook__.ipynb",
   "parameters": {},
   "start_time": "2021-07-18T18:52:19.210979",
   "version": "2.3.3"
  }
 },
 "nbformat": 4,
 "nbformat_minor": 5
}
