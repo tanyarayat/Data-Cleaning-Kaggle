{
 "cells": [
  {
   "cell_type": "markdown",
   "id": "9e7d0193",
   "metadata": {
    "papermill": {
     "duration": 0.024268,
     "end_time": "2021-07-18T18:50:12.891859",
     "exception": false,
     "start_time": "2021-07-18T18:50:12.867591",
     "status": "completed"
    },
    "tags": []
   },
   "source": [
    "**This notebook is an exercise in the [Data Cleaning](https://www.kaggle.com/learn/data-cleaning) course.  You can reference the tutorial at [this link](https://www.kaggle.com/alexisbcook/parsing-dates).**\n",
    "\n",
    "---\n"
   ]
  },
  {
   "cell_type": "markdown",
   "id": "2ac3840c",
   "metadata": {
    "papermill": {
     "duration": 0.021791,
     "end_time": "2021-07-18T18:50:12.936516",
     "exception": false,
     "start_time": "2021-07-18T18:50:12.914725",
     "status": "completed"
    },
    "tags": []
   },
   "source": [
    "In this exercise, you'll apply what you learned in the **Parsing dates** tutorial.\n",
    "\n",
    "# Setup\n",
    "\n",
    "The questions below will give you feedback on your work. Run the following cell to set up the feedback system."
   ]
  },
  {
   "cell_type": "code",
   "execution_count": 1,
   "id": "4848c023",
   "metadata": {
    "execution": {
     "iopub.execute_input": "2021-07-18T18:50:12.997933Z",
     "iopub.status.busy": "2021-07-18T18:50:12.997084Z",
     "iopub.status.idle": "2021-07-18T18:50:14.427241Z",
     "shell.execute_reply": "2021-07-18T18:50:14.426361Z",
     "shell.execute_reply.started": "2021-07-14T11:08:52.582597Z"
    },
    "papermill": {
     "duration": 1.4684,
     "end_time": "2021-07-18T18:50:14.427440",
     "exception": false,
     "start_time": "2021-07-18T18:50:12.959040",
     "status": "completed"
    },
    "tags": []
   },
   "outputs": [
    {
     "name": "stdout",
     "output_type": "stream",
     "text": [
      "Setup Complete\n"
     ]
    }
   ],
   "source": [
    "from learntools.core import binder\n",
    "binder.bind(globals())\n",
    "from learntools.data_cleaning.ex3 import *\n",
    "print(\"Setup Complete\")"
   ]
  },
  {
   "cell_type": "markdown",
   "id": "c1220a4c",
   "metadata": {
    "papermill": {
     "duration": 0.02219,
     "end_time": "2021-07-18T18:50:14.472611",
     "exception": false,
     "start_time": "2021-07-18T18:50:14.450421",
     "status": "completed"
    },
    "tags": []
   },
   "source": [
    "# Get our environment set up\n",
    "\n",
    "The first thing we'll need to do is load in the libraries and dataset we'll be using. We'll be working with a dataset containing information on earthquakes that occured between 1965 and 2016."
   ]
  },
  {
   "cell_type": "code",
   "execution_count": 2,
   "id": "2465b89d",
   "metadata": {
    "execution": {
     "iopub.execute_input": "2021-07-18T18:50:14.525303Z",
     "iopub.status.busy": "2021-07-18T18:50:14.523875Z",
     "iopub.status.idle": "2021-07-18T18:50:14.647141Z",
     "shell.execute_reply": "2021-07-18T18:50:14.646514Z",
     "shell.execute_reply.started": "2021-07-14T11:08:52.590611Z"
    },
    "papermill": {
     "duration": 0.152429,
     "end_time": "2021-07-18T18:50:14.647325",
     "exception": false,
     "start_time": "2021-07-18T18:50:14.494896",
     "status": "completed"
    },
    "tags": []
   },
   "outputs": [],
   "source": [
    "# modules we'll use\n",
    "import pandas as pd\n",
    "import numpy as np\n",
    "import seaborn as sns\n",
    "import datetime\n",
    "\n",
    "# read in our data\n",
    "earthquakes = pd.read_csv(\"../input/earthquake-database/database.csv\")\n",
    "\n",
    "# set seed for reproducibility\n",
    "np.random.seed(0)"
   ]
  },
  {
   "cell_type": "markdown",
   "id": "90b8171c",
   "metadata": {
    "papermill": {
     "duration": 0.022017,
     "end_time": "2021-07-18T18:50:14.691895",
     "exception": false,
     "start_time": "2021-07-18T18:50:14.669878",
     "status": "completed"
    },
    "tags": []
   },
   "source": [
    "# 1) Check the data type of our date column\n",
    "\n",
    "You'll be working with the \"Date\" column from the `earthquakes` dataframe.  Investigate this column now: does it look like it contains dates?  What is the dtype of the column?"
   ]
  },
  {
   "cell_type": "code",
   "execution_count": 3,
   "id": "75c95841",
   "metadata": {
    "execution": {
     "iopub.execute_input": "2021-07-18T18:50:14.749258Z",
     "iopub.status.busy": "2021-07-18T18:50:14.748359Z",
     "iopub.status.idle": "2021-07-18T18:50:14.754242Z",
     "shell.execute_reply": "2021-07-18T18:50:14.755037Z",
     "shell.execute_reply.started": "2021-07-14T11:08:52.698888Z"
    },
    "papermill": {
     "duration": 0.040829,
     "end_time": "2021-07-18T18:50:14.755307",
     "exception": false,
     "start_time": "2021-07-18T18:50:14.714478",
     "status": "completed"
    },
    "tags": []
   },
   "outputs": [
    {
     "name": "stdout",
     "output_type": "stream",
     "text": [
      "0    01/02/1965\n",
      "1    01/04/1965\n",
      "2    01/05/1965\n",
      "3    01/08/1965\n",
      "4    01/09/1965\n",
      "Name: Date, dtype: object\n"
     ]
    },
    {
     "data": {
      "text/plain": [
       "dtype('O')"
      ]
     },
     "execution_count": 3,
     "metadata": {},
     "output_type": "execute_result"
    }
   ],
   "source": [
    "# TODO: Your code here!\n",
    "# print the first few rows of the date column\n",
    "print(earthquakes['Date'].head())\n",
    "\n",
    "# check the data type of our date column\n",
    "earthquakes['Date'].dtype\n"
   ]
  },
  {
   "cell_type": "markdown",
   "id": "c17a30a1",
   "metadata": {
    "papermill": {
     "duration": 0.022726,
     "end_time": "2021-07-18T18:50:14.802169",
     "exception": false,
     "start_time": "2021-07-18T18:50:14.779443",
     "status": "completed"
    },
    "tags": []
   },
   "source": [
    "Once you have answered the question above, run the code cell below to get credit for your work."
   ]
  },
  {
   "cell_type": "code",
   "execution_count": 4,
   "id": "9c5bd252",
   "metadata": {
    "execution": {
     "iopub.execute_input": "2021-07-18T18:50:14.855992Z",
     "iopub.status.busy": "2021-07-18T18:50:14.854884Z",
     "iopub.status.idle": "2021-07-18T18:50:14.861239Z",
     "shell.execute_reply": "2021-07-18T18:50:14.861751Z",
     "shell.execute_reply.started": "2021-07-14T11:08:52.708823Z"
    },
    "papermill": {
     "duration": 0.036644,
     "end_time": "2021-07-18T18:50:14.861953",
     "exception": false,
     "start_time": "2021-07-18T18:50:14.825309",
     "status": "completed"
    },
    "tags": []
   },
   "outputs": [
    {
     "data": {
      "application/javascript": [
       "parent.postMessage({\"jupyterEvent\": \"custom.exercise_interaction\", \"data\": {\"outcomeType\": 1, \"valueTowardsCompletion\": 0.25, \"interactionType\": 1, \"questionType\": 4, \"questionId\": \"1_CheckDtype\", \"learnToolsVersion\": \"0.3.4\", \"failureMessage\": \"\", \"exceptionClass\": \"\", \"trace\": \"\"}}, \"*\")"
      ],
      "text/plain": [
       "<IPython.core.display.Javascript object>"
      ]
     },
     "metadata": {},
     "output_type": "display_data"
    },
    {
     "data": {
      "text/markdown": [
       "<span style=\"color:#33cc33\">Correct:</span> \n",
       "\n",
       "The \"Date\" column in the `earthquakes` DataFrame does have dates.  The dtype is \"object\"."
      ],
      "text/plain": [
       "Correct: \n",
       "\n",
       "The \"Date\" column in the `earthquakes` DataFrame does have dates.  The dtype is \"object\"."
      ]
     },
     "metadata": {},
     "output_type": "display_data"
    }
   ],
   "source": [
    "# Check your answer (Run this code cell to receive credit!)\n",
    "q1.check()"
   ]
  },
  {
   "cell_type": "code",
   "execution_count": 5,
   "id": "77a3430c",
   "metadata": {
    "execution": {
     "iopub.execute_input": "2021-07-18T18:50:14.917016Z",
     "iopub.status.busy": "2021-07-18T18:50:14.916291Z",
     "iopub.status.idle": "2021-07-18T18:50:14.919533Z",
     "shell.execute_reply": "2021-07-18T18:50:14.920013Z",
     "shell.execute_reply.started": "2021-07-14T11:08:52.725649Z"
    },
    "papermill": {
     "duration": 0.033097,
     "end_time": "2021-07-18T18:50:14.920221",
     "exception": false,
     "start_time": "2021-07-18T18:50:14.887124",
     "status": "completed"
    },
    "tags": []
   },
   "outputs": [],
   "source": [
    "# Line below will give you a hint\n",
    "#q1.hint()"
   ]
  },
  {
   "cell_type": "markdown",
   "id": "b8903b15",
   "metadata": {
    "papermill": {
     "duration": 0.024646,
     "end_time": "2021-07-18T18:50:14.969348",
     "exception": false,
     "start_time": "2021-07-18T18:50:14.944702",
     "status": "completed"
    },
    "tags": []
   },
   "source": [
    "# 2) Convert our date columns to datetime\n",
    "\n",
    "Most of the entries in the \"Date\" column follow the same format: \"month/day/four-digit year\".  However, the entry at index 3378 follows a completely different pattern.  Run the code cell below to see this."
   ]
  },
  {
   "cell_type": "code",
   "execution_count": 6,
   "id": "8f86a1f9",
   "metadata": {
    "execution": {
     "iopub.execute_input": "2021-07-18T18:50:15.021586Z",
     "iopub.status.busy": "2021-07-18T18:50:15.020847Z",
     "iopub.status.idle": "2021-07-18T18:50:15.059860Z",
     "shell.execute_reply": "2021-07-18T18:50:15.059174Z",
     "shell.execute_reply.started": "2021-07-14T11:08:52.731378Z"
    },
    "papermill": {
     "duration": 0.066398,
     "end_time": "2021-07-18T18:50:15.060030",
     "exception": false,
     "start_time": "2021-07-18T18:50:14.993632",
     "status": "completed"
    },
    "tags": []
   },
   "outputs": [
    {
     "data": {
      "text/html": [
       "<div>\n",
       "<style scoped>\n",
       "    .dataframe tbody tr th:only-of-type {\n",
       "        vertical-align: middle;\n",
       "    }\n",
       "\n",
       "    .dataframe tbody tr th {\n",
       "        vertical-align: top;\n",
       "    }\n",
       "\n",
       "    .dataframe thead th {\n",
       "        text-align: right;\n",
       "    }\n",
       "</style>\n",
       "<table border=\"1\" class=\"dataframe\">\n",
       "  <thead>\n",
       "    <tr style=\"text-align: right;\">\n",
       "      <th></th>\n",
       "      <th>Date</th>\n",
       "      <th>Time</th>\n",
       "      <th>Latitude</th>\n",
       "      <th>Longitude</th>\n",
       "      <th>Type</th>\n",
       "      <th>Depth</th>\n",
       "      <th>Depth Error</th>\n",
       "      <th>Depth Seismic Stations</th>\n",
       "      <th>Magnitude</th>\n",
       "      <th>Magnitude Type</th>\n",
       "      <th>...</th>\n",
       "      <th>Magnitude Seismic Stations</th>\n",
       "      <th>Azimuthal Gap</th>\n",
       "      <th>Horizontal Distance</th>\n",
       "      <th>Horizontal Error</th>\n",
       "      <th>Root Mean Square</th>\n",
       "      <th>ID</th>\n",
       "      <th>Source</th>\n",
       "      <th>Location Source</th>\n",
       "      <th>Magnitude Source</th>\n",
       "      <th>Status</th>\n",
       "    </tr>\n",
       "  </thead>\n",
       "  <tbody>\n",
       "    <tr>\n",
       "      <th>3378</th>\n",
       "      <td>1975-02-23T02:58:41.000Z</td>\n",
       "      <td>1975-02-23T02:58:41.000Z</td>\n",
       "      <td>8.017</td>\n",
       "      <td>124.075</td>\n",
       "      <td>Earthquake</td>\n",
       "      <td>623.0</td>\n",
       "      <td>NaN</td>\n",
       "      <td>NaN</td>\n",
       "      <td>5.6</td>\n",
       "      <td>MB</td>\n",
       "      <td>...</td>\n",
       "      <td>NaN</td>\n",
       "      <td>NaN</td>\n",
       "      <td>NaN</td>\n",
       "      <td>NaN</td>\n",
       "      <td>NaN</td>\n",
       "      <td>USP0000A09</td>\n",
       "      <td>US</td>\n",
       "      <td>US</td>\n",
       "      <td>US</td>\n",
       "      <td>Reviewed</td>\n",
       "    </tr>\n",
       "    <tr>\n",
       "      <th>3379</th>\n",
       "      <td>02/23/1975</td>\n",
       "      <td>03:53:36</td>\n",
       "      <td>-21.727</td>\n",
       "      <td>-71.356</td>\n",
       "      <td>Earthquake</td>\n",
       "      <td>33.0</td>\n",
       "      <td>NaN</td>\n",
       "      <td>NaN</td>\n",
       "      <td>5.6</td>\n",
       "      <td>MB</td>\n",
       "      <td>...</td>\n",
       "      <td>NaN</td>\n",
       "      <td>NaN</td>\n",
       "      <td>NaN</td>\n",
       "      <td>NaN</td>\n",
       "      <td>NaN</td>\n",
       "      <td>USP0000A0A</td>\n",
       "      <td>US</td>\n",
       "      <td>US</td>\n",
       "      <td>US</td>\n",
       "      <td>Reviewed</td>\n",
       "    </tr>\n",
       "    <tr>\n",
       "      <th>3380</th>\n",
       "      <td>02/23/1975</td>\n",
       "      <td>07:34:11</td>\n",
       "      <td>-10.879</td>\n",
       "      <td>166.667</td>\n",
       "      <td>Earthquake</td>\n",
       "      <td>33.0</td>\n",
       "      <td>NaN</td>\n",
       "      <td>NaN</td>\n",
       "      <td>5.5</td>\n",
       "      <td>MS</td>\n",
       "      <td>...</td>\n",
       "      <td>NaN</td>\n",
       "      <td>NaN</td>\n",
       "      <td>NaN</td>\n",
       "      <td>NaN</td>\n",
       "      <td>NaN</td>\n",
       "      <td>USP0000A0C</td>\n",
       "      <td>US</td>\n",
       "      <td>US</td>\n",
       "      <td>US</td>\n",
       "      <td>Reviewed</td>\n",
       "    </tr>\n",
       "    <tr>\n",
       "      <th>3381</th>\n",
       "      <td>02/25/1975</td>\n",
       "      <td>05:20:05</td>\n",
       "      <td>-7.388</td>\n",
       "      <td>149.798</td>\n",
       "      <td>Earthquake</td>\n",
       "      <td>33.0</td>\n",
       "      <td>NaN</td>\n",
       "      <td>NaN</td>\n",
       "      <td>5.5</td>\n",
       "      <td>MB</td>\n",
       "      <td>...</td>\n",
       "      <td>NaN</td>\n",
       "      <td>NaN</td>\n",
       "      <td>NaN</td>\n",
       "      <td>NaN</td>\n",
       "      <td>NaN</td>\n",
       "      <td>USP0000A12</td>\n",
       "      <td>US</td>\n",
       "      <td>US</td>\n",
       "      <td>US</td>\n",
       "      <td>Reviewed</td>\n",
       "    </tr>\n",
       "    <tr>\n",
       "      <th>3382</th>\n",
       "      <td>02/26/1975</td>\n",
       "      <td>04:48:55</td>\n",
       "      <td>85.047</td>\n",
       "      <td>97.969</td>\n",
       "      <td>Earthquake</td>\n",
       "      <td>33.0</td>\n",
       "      <td>NaN</td>\n",
       "      <td>NaN</td>\n",
       "      <td>5.6</td>\n",
       "      <td>MS</td>\n",
       "      <td>...</td>\n",
       "      <td>NaN</td>\n",
       "      <td>NaN</td>\n",
       "      <td>NaN</td>\n",
       "      <td>NaN</td>\n",
       "      <td>NaN</td>\n",
       "      <td>USP0000A1H</td>\n",
       "      <td>US</td>\n",
       "      <td>US</td>\n",
       "      <td>US</td>\n",
       "      <td>Reviewed</td>\n",
       "    </tr>\n",
       "  </tbody>\n",
       "</table>\n",
       "<p>5 rows × 21 columns</p>\n",
       "</div>"
      ],
      "text/plain": [
       "                          Date                      Time  Latitude  Longitude  \\\n",
       "3378  1975-02-23T02:58:41.000Z  1975-02-23T02:58:41.000Z     8.017    124.075   \n",
       "3379                02/23/1975                  03:53:36   -21.727    -71.356   \n",
       "3380                02/23/1975                  07:34:11   -10.879    166.667   \n",
       "3381                02/25/1975                  05:20:05    -7.388    149.798   \n",
       "3382                02/26/1975                  04:48:55    85.047     97.969   \n",
       "\n",
       "            Type  Depth  Depth Error  Depth Seismic Stations  Magnitude  \\\n",
       "3378  Earthquake  623.0          NaN                     NaN        5.6   \n",
       "3379  Earthquake   33.0          NaN                     NaN        5.6   \n",
       "3380  Earthquake   33.0          NaN                     NaN        5.5   \n",
       "3381  Earthquake   33.0          NaN                     NaN        5.5   \n",
       "3382  Earthquake   33.0          NaN                     NaN        5.6   \n",
       "\n",
       "     Magnitude Type  ...  Magnitude Seismic Stations  Azimuthal Gap  \\\n",
       "3378             MB  ...                         NaN            NaN   \n",
       "3379             MB  ...                         NaN            NaN   \n",
       "3380             MS  ...                         NaN            NaN   \n",
       "3381             MB  ...                         NaN            NaN   \n",
       "3382             MS  ...                         NaN            NaN   \n",
       "\n",
       "      Horizontal Distance  Horizontal Error  Root Mean Square          ID  \\\n",
       "3378                  NaN               NaN               NaN  USP0000A09   \n",
       "3379                  NaN               NaN               NaN  USP0000A0A   \n",
       "3380                  NaN               NaN               NaN  USP0000A0C   \n",
       "3381                  NaN               NaN               NaN  USP0000A12   \n",
       "3382                  NaN               NaN               NaN  USP0000A1H   \n",
       "\n",
       "     Source Location Source Magnitude Source    Status  \n",
       "3378     US              US               US  Reviewed  \n",
       "3379     US              US               US  Reviewed  \n",
       "3380     US              US               US  Reviewed  \n",
       "3381     US              US               US  Reviewed  \n",
       "3382     US              US               US  Reviewed  \n",
       "\n",
       "[5 rows x 21 columns]"
      ]
     },
     "execution_count": 6,
     "metadata": {},
     "output_type": "execute_result"
    }
   ],
   "source": [
    "earthquakes[3378:3383]"
   ]
  },
  {
   "cell_type": "markdown",
   "id": "7538aed3",
   "metadata": {
    "papermill": {
     "duration": 0.024525,
     "end_time": "2021-07-18T18:50:15.109430",
     "exception": false,
     "start_time": "2021-07-18T18:50:15.084905",
     "status": "completed"
    },
    "tags": []
   },
   "source": [
    "This does appear to be an issue with data entry: ideally, all entries in the column have the same format.  We can get an idea of how widespread this issue is by checking the length of each entry in the \"Date\" column."
   ]
  },
  {
   "cell_type": "code",
   "execution_count": 7,
   "id": "3556efb6",
   "metadata": {
    "execution": {
     "iopub.execute_input": "2021-07-18T18:50:15.163716Z",
     "iopub.status.busy": "2021-07-18T18:50:15.163060Z",
     "iopub.status.idle": "2021-07-18T18:50:15.192490Z",
     "shell.execute_reply": "2021-07-18T18:50:15.191866Z",
     "shell.execute_reply.started": "2021-07-14T11:08:52.774007Z"
    },
    "papermill": {
     "duration": 0.057902,
     "end_time": "2021-07-18T18:50:15.192682",
     "exception": false,
     "start_time": "2021-07-18T18:50:15.134780",
     "status": "completed"
    },
    "tags": []
   },
   "outputs": [
    {
     "data": {
      "text/plain": [
       "10    23409\n",
       "24        3\n",
       "Name: Date, dtype: int64"
      ]
     },
     "execution_count": 7,
     "metadata": {},
     "output_type": "execute_result"
    }
   ],
   "source": [
    "date_lengths = earthquakes.Date.str.len()\n",
    "date_lengths.value_counts()\n"
   ]
  },
  {
   "cell_type": "markdown",
   "id": "0c1fd954",
   "metadata": {
    "papermill": {
     "duration": 0.024944,
     "end_time": "2021-07-18T18:50:15.243212",
     "exception": false,
     "start_time": "2021-07-18T18:50:15.218268",
     "status": "completed"
    },
    "tags": []
   },
   "source": [
    "Looks like there are two more rows that has a date in a different format.  Run the code cell below to obtain the indices corresponding to those rows and print the data."
   ]
  },
  {
   "cell_type": "code",
   "execution_count": 8,
   "id": "473d45b8",
   "metadata": {
    "execution": {
     "iopub.execute_input": "2021-07-18T18:50:15.300134Z",
     "iopub.status.busy": "2021-07-18T18:50:15.299373Z",
     "iopub.status.idle": "2021-07-18T18:50:15.352415Z",
     "shell.execute_reply": "2021-07-18T18:50:15.352899Z",
     "shell.execute_reply.started": "2021-07-14T11:08:52.80314Z"
    },
    "papermill": {
     "duration": 0.084572,
     "end_time": "2021-07-18T18:50:15.353131",
     "exception": false,
     "start_time": "2021-07-18T18:50:15.268559",
     "status": "completed"
    },
    "tags": []
   },
   "outputs": [
    {
     "name": "stdout",
     "output_type": "stream",
     "text": [
      "Indices with corrupted data: [ 3378  7512 20650]\n"
     ]
    },
    {
     "data": {
      "text/html": [
       "<div>\n",
       "<style scoped>\n",
       "    .dataframe tbody tr th:only-of-type {\n",
       "        vertical-align: middle;\n",
       "    }\n",
       "\n",
       "    .dataframe tbody tr th {\n",
       "        vertical-align: top;\n",
       "    }\n",
       "\n",
       "    .dataframe thead th {\n",
       "        text-align: right;\n",
       "    }\n",
       "</style>\n",
       "<table border=\"1\" class=\"dataframe\">\n",
       "  <thead>\n",
       "    <tr style=\"text-align: right;\">\n",
       "      <th></th>\n",
       "      <th>Date</th>\n",
       "      <th>Time</th>\n",
       "      <th>Latitude</th>\n",
       "      <th>Longitude</th>\n",
       "      <th>Type</th>\n",
       "      <th>Depth</th>\n",
       "      <th>Depth Error</th>\n",
       "      <th>Depth Seismic Stations</th>\n",
       "      <th>Magnitude</th>\n",
       "      <th>Magnitude Type</th>\n",
       "      <th>...</th>\n",
       "      <th>Magnitude Seismic Stations</th>\n",
       "      <th>Azimuthal Gap</th>\n",
       "      <th>Horizontal Distance</th>\n",
       "      <th>Horizontal Error</th>\n",
       "      <th>Root Mean Square</th>\n",
       "      <th>ID</th>\n",
       "      <th>Source</th>\n",
       "      <th>Location Source</th>\n",
       "      <th>Magnitude Source</th>\n",
       "      <th>Status</th>\n",
       "    </tr>\n",
       "  </thead>\n",
       "  <tbody>\n",
       "    <tr>\n",
       "      <th>3378</th>\n",
       "      <td>1975-02-23T02:58:41.000Z</td>\n",
       "      <td>1975-02-23T02:58:41.000Z</td>\n",
       "      <td>8.017</td>\n",
       "      <td>124.075</td>\n",
       "      <td>Earthquake</td>\n",
       "      <td>623.0</td>\n",
       "      <td>NaN</td>\n",
       "      <td>NaN</td>\n",
       "      <td>5.6</td>\n",
       "      <td>MB</td>\n",
       "      <td>...</td>\n",
       "      <td>NaN</td>\n",
       "      <td>NaN</td>\n",
       "      <td>NaN</td>\n",
       "      <td>NaN</td>\n",
       "      <td>NaN</td>\n",
       "      <td>USP0000A09</td>\n",
       "      <td>US</td>\n",
       "      <td>US</td>\n",
       "      <td>US</td>\n",
       "      <td>Reviewed</td>\n",
       "    </tr>\n",
       "    <tr>\n",
       "      <th>7512</th>\n",
       "      <td>1985-04-28T02:53:41.530Z</td>\n",
       "      <td>1985-04-28T02:53:41.530Z</td>\n",
       "      <td>-32.998</td>\n",
       "      <td>-71.766</td>\n",
       "      <td>Earthquake</td>\n",
       "      <td>33.0</td>\n",
       "      <td>NaN</td>\n",
       "      <td>NaN</td>\n",
       "      <td>5.6</td>\n",
       "      <td>MW</td>\n",
       "      <td>...</td>\n",
       "      <td>NaN</td>\n",
       "      <td>NaN</td>\n",
       "      <td>NaN</td>\n",
       "      <td>NaN</td>\n",
       "      <td>1.30</td>\n",
       "      <td>USP0002E81</td>\n",
       "      <td>US</td>\n",
       "      <td>US</td>\n",
       "      <td>HRV</td>\n",
       "      <td>Reviewed</td>\n",
       "    </tr>\n",
       "    <tr>\n",
       "      <th>20650</th>\n",
       "      <td>2011-03-13T02:23:34.520Z</td>\n",
       "      <td>2011-03-13T02:23:34.520Z</td>\n",
       "      <td>36.344</td>\n",
       "      <td>142.344</td>\n",
       "      <td>Earthquake</td>\n",
       "      <td>10.1</td>\n",
       "      <td>13.9</td>\n",
       "      <td>289.0</td>\n",
       "      <td>5.8</td>\n",
       "      <td>MWC</td>\n",
       "      <td>...</td>\n",
       "      <td>NaN</td>\n",
       "      <td>32.3</td>\n",
       "      <td>NaN</td>\n",
       "      <td>NaN</td>\n",
       "      <td>1.06</td>\n",
       "      <td>USP000HWQP</td>\n",
       "      <td>US</td>\n",
       "      <td>US</td>\n",
       "      <td>GCMT</td>\n",
       "      <td>Reviewed</td>\n",
       "    </tr>\n",
       "  </tbody>\n",
       "</table>\n",
       "<p>3 rows × 21 columns</p>\n",
       "</div>"
      ],
      "text/plain": [
       "                           Date                      Time  Latitude  \\\n",
       "3378   1975-02-23T02:58:41.000Z  1975-02-23T02:58:41.000Z     8.017   \n",
       "7512   1985-04-28T02:53:41.530Z  1985-04-28T02:53:41.530Z   -32.998   \n",
       "20650  2011-03-13T02:23:34.520Z  2011-03-13T02:23:34.520Z    36.344   \n",
       "\n",
       "       Longitude        Type  Depth  Depth Error  Depth Seismic Stations  \\\n",
       "3378     124.075  Earthquake  623.0          NaN                     NaN   \n",
       "7512     -71.766  Earthquake   33.0          NaN                     NaN   \n",
       "20650    142.344  Earthquake   10.1         13.9                   289.0   \n",
       "\n",
       "       Magnitude Magnitude Type  ...  Magnitude Seismic Stations  \\\n",
       "3378         5.6             MB  ...                         NaN   \n",
       "7512         5.6             MW  ...                         NaN   \n",
       "20650        5.8            MWC  ...                         NaN   \n",
       "\n",
       "       Azimuthal Gap  Horizontal Distance  Horizontal Error  Root Mean Square  \\\n",
       "3378             NaN                  NaN               NaN               NaN   \n",
       "7512             NaN                  NaN               NaN              1.30   \n",
       "20650           32.3                  NaN               NaN              1.06   \n",
       "\n",
       "               ID Source Location Source Magnitude Source    Status  \n",
       "3378   USP0000A09     US              US               US  Reviewed  \n",
       "7512   USP0002E81     US              US              HRV  Reviewed  \n",
       "20650  USP000HWQP     US              US             GCMT  Reviewed  \n",
       "\n",
       "[3 rows x 21 columns]"
      ]
     },
     "execution_count": 8,
     "metadata": {},
     "output_type": "execute_result"
    }
   ],
   "source": [
    "indices = np.where([date_lengths == 24])[1]\n",
    "print('Indices with corrupted data:', indices)\n",
    "earthquakes.loc[indices]"
   ]
  },
  {
   "cell_type": "markdown",
   "id": "306c5c4b",
   "metadata": {
    "papermill": {
     "duration": 0.0261,
     "end_time": "2021-07-18T18:50:15.405498",
     "exception": false,
     "start_time": "2021-07-18T18:50:15.379398",
     "status": "completed"
    },
    "tags": []
   },
   "source": [
    "Given all of this information, it's your turn to create a new column \"date_parsed\" in the `earthquakes` dataset that has correctly parsed dates in it.  \n",
    "\n",
    "**Note**: When completing this problem, you are allowed to (but are not required to) amend the entries in the \"Date\" and \"Time\" columns.  Do not remove any rows from the dataset."
   ]
  },
  {
   "cell_type": "code",
   "execution_count": 9,
   "id": "54c6a97e",
   "metadata": {
    "execution": {
     "iopub.execute_input": "2021-07-18T18:50:15.469639Z",
     "iopub.status.busy": "2021-07-18T18:50:15.468886Z",
     "iopub.status.idle": "2021-07-18T18:50:15.533796Z",
     "shell.execute_reply": "2021-07-18T18:50:15.534327Z",
     "shell.execute_reply.started": "2021-07-14T11:08:52.845334Z"
    },
    "papermill": {
     "duration": 0.102636,
     "end_time": "2021-07-18T18:50:15.534518",
     "exception": false,
     "start_time": "2021-07-18T18:50:15.431882",
     "status": "completed"
    },
    "tags": []
   },
   "outputs": [
    {
     "data": {
      "application/javascript": [
       "parent.postMessage({\"jupyterEvent\": \"custom.exercise_interaction\", \"data\": {\"outcomeType\": 1, \"valueTowardsCompletion\": 0.25, \"interactionType\": 1, \"questionType\": 2, \"questionId\": \"2_ConvertToDatetime\", \"learnToolsVersion\": \"0.3.4\", \"failureMessage\": \"\", \"exceptionClass\": \"\", \"trace\": \"\"}}, \"*\")"
      ],
      "text/plain": [
       "<IPython.core.display.Javascript object>"
      ]
     },
     "metadata": {},
     "output_type": "display_data"
    },
    {
     "data": {
      "text/markdown": [
       "<span style=\"color:#33cc33\">Correct</span>"
      ],
      "text/plain": [
       "Correct"
      ]
     },
     "metadata": {},
     "output_type": "display_data"
    }
   ],
   "source": [
    "# TODO: Your code here\n",
    "earthquakes.loc[3378, \"Date\"] = \"02/23/1975\"\n",
    "earthquakes.loc[7512, \"Date\"] = \"04/28/1985\"\n",
    "earthquakes.loc[20650, \"Date\"] = \"03/13/2011\"\n",
    "earthquakes['date_parsed'] = pd.to_datetime(earthquakes['Date'], format=\"%m/%d/%Y\")\n",
    "\n",
    "# Check your answer\n",
    "q2.check()"
   ]
  },
  {
   "cell_type": "code",
   "execution_count": 10,
   "id": "fcdeda02",
   "metadata": {
    "execution": {
     "iopub.execute_input": "2021-07-18T18:50:15.591990Z",
     "iopub.status.busy": "2021-07-18T18:50:15.591291Z",
     "iopub.status.idle": "2021-07-18T18:50:15.594787Z",
     "shell.execute_reply": "2021-07-18T18:50:15.595437Z",
     "shell.execute_reply.started": "2021-07-14T11:08:52.925927Z"
    },
    "papermill": {
     "duration": 0.034222,
     "end_time": "2021-07-18T18:50:15.595619",
     "exception": false,
     "start_time": "2021-07-18T18:50:15.561397",
     "status": "completed"
    },
    "tags": []
   },
   "outputs": [],
   "source": [
    "# Lines below will give you a hint or solution code\n",
    "#q2.hint()\n",
    "#q2.solution()"
   ]
  },
  {
   "cell_type": "markdown",
   "id": "bfce2c83",
   "metadata": {
    "papermill": {
     "duration": 0.027533,
     "end_time": "2021-07-18T18:50:15.650194",
     "exception": false,
     "start_time": "2021-07-18T18:50:15.622661",
     "status": "completed"
    },
    "tags": []
   },
   "source": [
    "# 3) Select the day of the month\n",
    "\n",
    "Create a Pandas Series `day_of_month_earthquakes` containing the day of the month from the \"date_parsed\" column."
   ]
  },
  {
   "cell_type": "code",
   "execution_count": 11,
   "id": "248b7586",
   "metadata": {
    "execution": {
     "iopub.execute_input": "2021-07-18T18:50:15.708213Z",
     "iopub.status.busy": "2021-07-18T18:50:15.707531Z",
     "iopub.status.idle": "2021-07-18T18:50:15.720114Z",
     "shell.execute_reply": "2021-07-18T18:50:15.720588Z",
     "shell.execute_reply.started": "2021-07-14T11:08:52.93218Z"
    },
    "papermill": {
     "duration": 0.043304,
     "end_time": "2021-07-18T18:50:15.720764",
     "exception": false,
     "start_time": "2021-07-18T18:50:15.677460",
     "status": "completed"
    },
    "tags": []
   },
   "outputs": [
    {
     "data": {
      "application/javascript": [
       "parent.postMessage({\"jupyterEvent\": \"custom.exercise_interaction\", \"data\": {\"outcomeType\": 1, \"valueTowardsCompletion\": 0.25, \"interactionType\": 1, \"questionType\": 1, \"questionId\": \"3_DayOfMonth\", \"learnToolsVersion\": \"0.3.4\", \"failureMessage\": \"\", \"exceptionClass\": \"\", \"trace\": \"\"}}, \"*\")"
      ],
      "text/plain": [
       "<IPython.core.display.Javascript object>"
      ]
     },
     "metadata": {},
     "output_type": "display_data"
    },
    {
     "data": {
      "text/markdown": [
       "<span style=\"color:#33cc33\">Correct</span>"
      ],
      "text/plain": [
       "Correct"
      ]
     },
     "metadata": {},
     "output_type": "display_data"
    }
   ],
   "source": [
    "# try to get the day of the month from the date column\n",
    "day_of_month_earthquakes = earthquakes['date_parsed'].dt.day\n",
    "day_of_month_earthquakes.head()\n",
    "# Check your answer\n",
    "q3.check()"
   ]
  },
  {
   "cell_type": "code",
   "execution_count": 12,
   "id": "2dcd4da7",
   "metadata": {
    "execution": {
     "iopub.execute_input": "2021-07-18T18:50:15.783421Z",
     "iopub.status.busy": "2021-07-18T18:50:15.782694Z",
     "iopub.status.idle": "2021-07-18T18:50:15.784886Z",
     "shell.execute_reply": "2021-07-18T18:50:15.785365Z",
     "shell.execute_reply.started": "2021-07-14T11:08:52.951665Z"
    },
    "papermill": {
     "duration": 0.035829,
     "end_time": "2021-07-18T18:50:15.785560",
     "exception": false,
     "start_time": "2021-07-18T18:50:15.749731",
     "status": "completed"
    },
    "tags": []
   },
   "outputs": [],
   "source": [
    "# Lines below will give you a hint or solution code\n",
    "#q3.hint()\n",
    "#q3.solution()"
   ]
  },
  {
   "cell_type": "markdown",
   "id": "69f4ec54",
   "metadata": {
    "papermill": {
     "duration": 0.028272,
     "end_time": "2021-07-18T18:50:15.842348",
     "exception": false,
     "start_time": "2021-07-18T18:50:15.814076",
     "status": "completed"
    },
    "tags": []
   },
   "source": [
    "# 4) Plot the day of the month to check the date parsing\n",
    "\n",
    "Plot the days of the month from your earthquake dataset."
   ]
  },
  {
   "cell_type": "code",
   "execution_count": 13,
   "id": "f4897e13",
   "metadata": {
    "execution": {
     "iopub.execute_input": "2021-07-18T18:50:15.902635Z",
     "iopub.status.busy": "2021-07-18T18:50:15.901836Z",
     "iopub.status.idle": "2021-07-18T18:50:16.167086Z",
     "shell.execute_reply": "2021-07-18T18:50:16.166521Z",
     "shell.execute_reply.started": "2021-07-14T11:08:52.957384Z"
    },
    "papermill": {
     "duration": 0.296695,
     "end_time": "2021-07-18T18:50:16.167248",
     "exception": false,
     "start_time": "2021-07-18T18:50:15.870553",
     "status": "completed"
    },
    "tags": []
   },
   "outputs": [
    {
     "name": "stderr",
     "output_type": "stream",
     "text": [
      "/opt/conda/lib/python3.7/site-packages/seaborn/distributions.py:2557: FutureWarning: `distplot` is a deprecated function and will be removed in a future version. Please adapt your code to use either `displot` (a figure-level function with similar flexibility) or `histplot` (an axes-level function for histograms).\n",
      "  warnings.warn(msg, FutureWarning)\n"
     ]
    },
    {
     "data": {
      "text/plain": [
       "<AxesSubplot:xlabel='date_parsed'>"
      ]
     },
     "execution_count": 13,
     "metadata": {},
     "output_type": "execute_result"
    },
    {
     "data": {
      "image/png": "[encoded data removed]",
      "text/plain": [
       "<Figure size 432x288 with 1 Axes>"
      ]
     },
     "metadata": {
      "needs_background": "light"
     },
     "output_type": "display_data"
    }
   ],
   "source": [
    "# TODO: Your code here!\n",
    "# remove na's\n",
    "day_of_month_earthqaukes = day_of_month_earthquakes.dropna()\n",
    "# plot the day of the month\n",
    "sns.distplot(day_of_month_earthquakes, kde=False, bins=31)\n"
   ]
  },
  {
   "cell_type": "markdown",
   "id": "7f24a628",
   "metadata": {
    "papermill": {
     "duration": 0.028926,
     "end_time": "2021-07-18T18:50:16.225395",
     "exception": false,
     "start_time": "2021-07-18T18:50:16.196469",
     "status": "completed"
    },
    "tags": []
   },
   "source": [
    "Does the graph make sense to you?"
   ]
  },
  {
   "cell_type": "code",
   "execution_count": 14,
   "id": "77b73d04",
   "metadata": {
    "execution": {
     "iopub.execute_input": "2021-07-18T18:50:16.289522Z",
     "iopub.status.busy": "2021-07-18T18:50:16.288818Z",
     "iopub.status.idle": "2021-07-18T18:50:16.295464Z",
     "shell.execute_reply": "2021-07-18T18:50:16.294810Z",
     "shell.execute_reply.started": "2021-07-14T11:08:53.191932Z"
    },
    "papermill": {
     "duration": 0.041254,
     "end_time": "2021-07-18T18:50:16.295611",
     "exception": false,
     "start_time": "2021-07-18T18:50:16.254357",
     "status": "completed"
    },
    "tags": []
   },
   "outputs": [
    {
     "data": {
      "application/javascript": [
       "parent.postMessage({\"jupyterEvent\": \"custom.exercise_interaction\", \"data\": {\"outcomeType\": 1, \"valueTowardsCompletion\": 0.25, \"interactionType\": 1, \"questionType\": 4, \"questionId\": \"4_PlotDayOfMonth\", \"learnToolsVersion\": \"0.3.4\", \"failureMessage\": \"\", \"exceptionClass\": \"\", \"trace\": \"\"}}, \"*\")"
      ],
      "text/plain": [
       "<IPython.core.display.Javascript object>"
      ]
     },
     "metadata": {},
     "output_type": "display_data"
    },
    {
     "data": {
      "text/markdown": [
       "<span style=\"color:#33cc33\">Correct:</span> \n",
       "\n",
       "The graph should make sense: it shows a relatively even distribution in days of the month,which is what we would expect."
      ],
      "text/plain": [
       "Correct: \n",
       "\n",
       "The graph should make sense: it shows a relatively even distribution in days of the month,which is what we would expect."
      ]
     },
     "metadata": {},
     "output_type": "display_data"
    }
   ],
   "source": [
    "# Check your answer (Run this code cell to receive credit!)\n",
    "q4.check()"
   ]
  },
  {
   "cell_type": "code",
   "execution_count": 15,
   "id": "ac93611f",
   "metadata": {
    "execution": {
     "iopub.execute_input": "2021-07-18T18:50:16.360567Z",
     "iopub.status.busy": "2021-07-18T18:50:16.359874Z",
     "iopub.status.idle": "2021-07-18T18:50:16.362165Z",
     "shell.execute_reply": "2021-07-18T18:50:16.362737Z",
     "shell.execute_reply.started": "2021-07-14T11:08:53.203085Z"
    },
    "papermill": {
     "duration": 0.03716,
     "end_time": "2021-07-18T18:50:16.362898",
     "exception": false,
     "start_time": "2021-07-18T18:50:16.325738",
     "status": "completed"
    },
    "tags": []
   },
   "outputs": [],
   "source": [
    "# Line below will give you a hint\n",
    "#q4.hint()"
   ]
  },
  {
   "cell_type": "markdown",
   "id": "c808ffd9",
   "metadata": {
    "papermill": {
     "duration": 0.03019,
     "end_time": "2021-07-18T18:50:16.423044",
     "exception": false,
     "start_time": "2021-07-18T18:50:16.392854",
     "status": "completed"
    },
    "tags": []
   },
   "source": [
    "# (Optional) Bonus Challenge\n",
    "\n",
    "For an extra challenge, you'll work with a [Smithsonian dataset](https://www.kaggle.com/smithsonian/volcanic-eruptions) that documents Earth's volcanoes and their eruptive history over the past 10,000 years \n",
    "\n",
    "Run the next code cell to load the data."
   ]
  },
  {
   "cell_type": "code",
   "execution_count": 16,
   "id": "3e6b6405",
   "metadata": {
    "execution": {
     "iopub.execute_input": "2021-07-18T18:50:16.487255Z",
     "iopub.status.busy": "2021-07-18T18:50:16.486596Z",
     "iopub.status.idle": "2021-07-18T18:50:16.512208Z",
     "shell.execute_reply": "2021-07-18T18:50:16.512735Z",
     "shell.execute_reply.started": "2021-07-14T11:08:53.211452Z"
    },
    "papermill": {
     "duration": 0.059536,
     "end_time": "2021-07-18T18:50:16.512923",
     "exception": false,
     "start_time": "2021-07-18T18:50:16.453387",
     "status": "completed"
    },
    "tags": []
   },
   "outputs": [],
   "source": [
    "volcanos = pd.read_csv(\"../input/volcanic-eruptions/database.csv\")"
   ]
  },
  {
   "cell_type": "markdown",
   "id": "19334a86",
   "metadata": {
    "papermill": {
     "duration": 0.030032,
     "end_time": "2021-07-18T18:50:16.573200",
     "exception": false,
     "start_time": "2021-07-18T18:50:16.543168",
     "status": "completed"
    },
    "tags": []
   },
   "source": [
    "Try parsing the column \"Last Known Eruption\" from the `volcanos` dataframe. This column contains a mixture of text (\"Unknown\") and years both before the common era (BCE, also known as BC) and in the common era (CE, also known as AD)."
   ]
  },
  {
   "cell_type": "code",
   "execution_count": 17,
   "id": "d4b43e23",
   "metadata": {
    "execution": {
     "iopub.execute_input": "2021-07-18T18:50:16.637396Z",
     "iopub.status.busy": "2021-07-18T18:50:16.636678Z",
     "iopub.status.idle": "2021-07-18T18:50:16.646128Z",
     "shell.execute_reply": "2021-07-18T18:50:16.645560Z",
     "shell.execute_reply.started": "2021-07-14T11:08:53.251089Z"
    },
    "papermill": {
     "duration": 0.042738,
     "end_time": "2021-07-18T18:50:16.646273",
     "exception": false,
     "start_time": "2021-07-18T18:50:16.603535",
     "status": "completed"
    },
    "tags": []
   },
   "outputs": [
    {
     "data": {
      "text/plain": [
       "764     Unknown\n",
       "1069    1996 CE\n",
       "34      1855 CE\n",
       "489     2016 CE\n",
       "9       1302 CE\n",
       "Name: Last Known Eruption, dtype: object"
      ]
     },
     "execution_count": 17,
     "metadata": {},
     "output_type": "execute_result"
    }
   ],
   "source": [
    "volcanos['Last Known Eruption'].sample(5)"
   ]
  },
  {
   "cell_type": "markdown",
   "id": "f5c21537",
   "metadata": {
    "papermill": {
     "duration": 0.030004,
     "end_time": "2021-07-18T18:50:16.706671",
     "exception": false,
     "start_time": "2021-07-18T18:50:16.676667",
     "status": "completed"
    },
    "tags": []
   },
   "source": [
    "# (Optional) More practice\n",
    "\n",
    "If you're interested in graphing time series, [check out this tutorial](https://www.kaggle.com/residentmario/time-series-plotting-optional).\n",
    "\n",
    "You can also look into passing columns that you know have dates in them  the `parse_dates` argument in `read_csv`. (The documention [is here](https://pandas.pydata.org/pandas-docs/stable/generated/pandas.read_csv.html).) Do note that this method can be very slow, but depending on your needs it may sometimes be handy to use.\n",
    "\n",
    "# Keep going\n",
    "\n",
    "In the next lesson, learn how to [**work with character encodings**](https://www.kaggle.com/alexisbcook/character-encodings)."
   ]
  },
  {
   "cell_type": "markdown",
   "id": "ad24ce99",
   "metadata": {
    "papermill": {
     "duration": 0.030756,
     "end_time": "2021-07-18T18:50:16.767842",
     "exception": false,
     "start_time": "2021-07-18T18:50:16.737086",
     "status": "completed"
    },
    "tags": []
   },
   "source": [
    "---\n",
    "\n",
    "\n",
    "\n",
    "\n",
    "*Have questions or comments? Visit the [Learn Discussion forum](https://www.kaggle.com/learn-forum/172650) to chat with other Learners.*"
   ]
  }
 ],
 "metadata": {
  "kernelspec": {
   "display_name": "Python 3",
   "language": "python",
   "name": "python3"
  },
  "language_info": {
   "codemirror_mode": {
    "name": "ipython",
    "version": 3
   },
   "file_extension": ".py",
   "mimetype": "text/x-python",
   "name": "python",
   "nbconvert_exporter": "python",
   "pygments_lexer": "ipython3",
   "version": "3.7.10"
  },
  "papermill": {
   "default_parameters": {},
   "duration": 14.963569,
   "end_time": "2021-07-18T18:50:18.136285",
   "environment_variables": {},
   "exception": null,
   "input_path": "__notebook__.ipynb",
   "output_path": "__notebook__.ipynb",
   "parameters": {},
   "start_time": "2021-07-18T18:50:03.172716",
   "version": "2.3.3"
  }
 },
 "nbformat": 4,
 "nbformat_minor": 5
}
